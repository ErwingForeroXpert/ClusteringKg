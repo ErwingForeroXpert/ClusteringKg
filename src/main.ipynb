{
 "cells": [
  {
   "cell_type": "markdown",
   "metadata": {},
   "source": [
    "Required Packages"
   ]
  },
  {
   "cell_type": "code",
   "execution_count": null,
   "metadata": {},
   "outputs": [],
   "source": [
    "# numpy==1.22.3\n",
    "# pandas==1.4.2\n",
    "# PyMsgBox==1.0.9\n",
    "# python-dateutil==2.8.2\n",
    "# pytz==2022.1\n",
    "# pywin32==303\n",
    "# pyxlsb==1.0.9\n",
    "# six==1.16.0\n",
    "# tk==0.1.0\n",
    "# xlwings==0.27.5"
   ]
  },
  {
   "cell_type": "code",
   "execution_count": null,
   "metadata": {},
   "outputs": [],
   "source": [
    "#import required modules\n",
    "import os\n",
    "import asyncio\n",
    "import functools\n",
    "import pandas as pd\n",
    "\n",
    "from cluster.cluster import Cluster\n",
    "from concurrent.futures import ThreadPoolExecutor\n",
    "from dataframes.dataframe_optimized import DataFrameOptimized\n",
    "from utils import constants as const, index as utils, feature_flags as ft"
   ]
  },
  {
   "cell_type": "markdown",
   "metadata": {},
   "source": [
    "load files"
   ]
  },
  {
   "cell_type": "code",
   "execution_count": null,
   "metadata": {},
   "outputs": [],
   "source": [
    "results = app.results\n",
    "sources = config[\"sources\"]\n",
    "\n",
    "bases = {}\n",
    "\n",
    "with ThreadPoolExecutor(max_workers=4) as executor:\n",
    "\n",
    "    futures = []\n",
    "    keys = []\n",
    "\n",
    "    for key, source in sources.items():\n",
    "        path = results[key].split(\"|\") #list[base, ...] - key is a name of base\n",
    "        if len(path) == 1:\n",
    "            path = path[0]\n",
    "        keys.append(key)\n",
    "        futures.append(loop.run_in_executor(executor, functools.partial(Cluster.preprocess_base, **{\"path\": path, \"properties\": source})))\n",
    "\n",
    "    results = await asyncio.gather(*futures)\n",
    "        \n",
    "\n",
    "bases = {f\"{file.split('.')[0]}\": DataFrameOptimized(pd.read_csv(os.path.join(const.ROOT_DIR, f\"files/temp/{file}\"))) for file in os.listdir(os.path.join(const.ROOT_DIR, f\"files/temp\"))}\n",
    "# bases = {f\"{keys[idx]}\": result for idx, result in enumerate(results)}\n",
    "\n",
    "final_base = Cluster()\n",
    "await final_base.merge_all(bases, config[\"order_base\"])\n",
    "\n",
    "app.prog_bars[\"pb_process\"].stop()\n",
    "app.update_label(label=\"lbl_status\", label_text=\"status_project\", text=\"Terminado\") # status"
   ]
  }
 ],
 "metadata": {
  "interpreter": {
   "hash": "2f9411b5dc834ba136f323b80556c98fffceea74ee4cc78a826ac63306838f1b"
  },
  "kernelspec": {
   "display_name": "Python 3.9.8 ('ClusteringKg-7VG3ZJPS')",
   "language": "python",
   "name": "python3"
  },
  "language_info": {
   "name": "python",
   "version": "3.9.8"
  },
  "orig_nbformat": 4
 },
 "nbformat": 4,
 "nbformat_minor": 2
}
