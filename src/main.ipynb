{
 "cells": [
  {
   "cell_type": "markdown",
   "metadata": {},
   "source": [
    "Required Packages"
   ]
  },
  {
   "cell_type": "code",
   "execution_count": 2,
   "metadata": {},
   "outputs": [],
   "source": [
    "# numpy==1.22.3\n",
    "# pandas==1.4.2\n",
    "# python-dateutil==2.8.2\n",
    "# pytz==2022.1\n",
    "# pywin32==303\n",
    "# pyxlsb==1.0.9\n",
    "# six==1.16.0\n",
    "# xlwings==0.27.5"
   ]
  },
  {
   "cell_type": "code",
   "execution_count": 3,
   "metadata": {},
   "outputs": [],
   "source": [
    "#import required modules\n",
    "import os\n",
    "import re\n",
    "import asyncio\n",
    "import functools\n",
    "import pandas as pd\n",
    "\n",
    "from cluster.cluster import Cluster\n",
    "from concurrent.futures import ThreadPoolExecutor\n",
    "from dataframes.dataframe_optimized import DataFrameOptimized\n",
    "from utils import constants as const, index as utils"
   ]
  },
  {
   "cell_type": "markdown",
   "metadata": {},
   "source": [
    "Functions"
   ]
  },
  {
   "cell_type": "code",
   "execution_count": 4,
   "metadata": {},
   "outputs": [],
   "source": [
    "async def get_bases(sources: dict[str, str]) -> 'tuple(list[str], list[DataFrameOptimized])':\n",
    "    \"\"\"Get DataFrames of sources\n",
    "\n",
    "    Args:\n",
    "        sources (dict[str, str]): dict of sources \n",
    "\n",
    "    Returns:\n",
    "        list[DataFrameOptimized]: [description]\n",
    "    \"\"\"\n",
    "    loop = asyncio.get_event_loop()\n",
    "    \n",
    "    with ThreadPoolExecutor(max_workers=4) as executor:\n",
    "\n",
    "        futures = []\n",
    "        keys = []\n",
    "\n",
    "        for key, source in sources.items():\n",
    "            path = results[key].split(\"|\") #list[base, ...] - key is a name of base\n",
    "            if len(path) == 1:\n",
    "                path = path[0]\n",
    "            keys.append(key)\n",
    "            futures.append(loop.run_in_executor(executor, functools.partial(Cluster.preprocess_base, **{\"path\": path, \"properties\": source})))\n",
    "\n",
    "        results = await asyncio.gather(*futures)\n",
    "    \n",
    "    return keys, results\n",
    "\n",
    "def get_predeterminated_files(_path: str):\n",
    "    \n",
    "        found = {\n",
    "            \"base_socios\": \"\",\n",
    "            \"base_coordenadas\": \"\",\n",
    "            \"base_universo_directa\": \"\",\n",
    "            \"base_universo_indirecta\": \"\",\n",
    "            \"base_consulta_directa\": \"\",\n",
    "            \"base_consulta_indirecta\": \"\"\n",
    "        }\n",
    "        for (dirpath, dirnames, filenames) in os.walk(_path):\n",
    "            for file in filenames:\n",
    "                if re.search(\"socio\", file, re.IGNORECASE):\n",
    "                    found[\"base_socios\"] = os.path.join(_path, file)\n",
    "                elif re.search(\"coord\", file, re.IGNORECASE):\n",
    "                    found[\"base_coordenadas\"] = os.path.join(_path, file)\n",
    "                elif re.search(r\"universo\\s+direc\", file, re.IGNORECASE):\n",
    "                    found[\"base_universo_directa\"] = os.path.join(_path, file)\n",
    "                elif re.search(r\"universo\\s+indirec\", file, re.IGNORECASE):\n",
    "                    found[\"base_universo_indirecta\"] = os.path.join(_path, file)\n",
    "\n",
    "            for dir in dirnames:\n",
    "                files = []\n",
    "                root_dir = os.path.join(_path, dir)\n",
    "                for _file in os.listdir(root_dir):\n",
    "                    files.append(os.path.normpath(os.path.join(root_dir, _file)))\n",
    "                if re.search(\"indirecta\", dir, re.IGNORECASE):\n",
    "                    found[\"base_consulta_indirecta\"] = \"|\".join(files)\n",
    "                elif re.search(\"directa\", dir, re.IGNORECASE):\n",
    "                    found[\"base_consulta_directa\"] = \"|\".join(files)\n",
    "        return found"
   ]
  },
  {
   "cell_type": "code",
   "execution_count": 5,
   "metadata": {},
   "outputs": [],
   "source": [
    "#load configfile\n",
    "config = utils.get_config(os.path.join(const.ROOT_DIR, \"config.yml\"))"
   ]
  },
  {
   "cell_type": "markdown",
   "metadata": {},
   "source": [
    "principal process"
   ]
  },
  {
   "cell_type": "code",
   "execution_count": null,
   "metadata": {},
   "outputs": [],
   "source": [
    "files_found = get_predeterminated_files(os.path.join(const.ROOT_DIR, \"files/Bases\"))\n",
    "sources = config[\"sources\"]\n",
    "\n",
    "# bases = get_bases(sources)  \n",
    "\n",
    "bases = {f\"{file.split('.')[0]}\": DataFrameOptimized(pd.read_csv(os.path.join(const.ROOT_DIR, f\"files/temp/{file}\"))) for file in os.listdir(os.path.join(const.ROOT_DIR, f\"files/temp\"))}\n",
    "# bases = {f\"{keys[idx]}\": result for idx, result in enumerate(results)}"
   ]
  },
  {
   "cell_type": "code",
   "execution_count": 7,
   "metadata": {},
   "outputs": [
    {
     "name": "stdout",
     "output_type": "stream",
     "text": [
      "<class 'pandas.core.frame.DataFrame'>\n",
      "RangeIndex: 17145 entries, 0 to 17144\n",
      "Data columns (total 5 columns):\n",
      " #   Column       Non-Null Count  Dtype \n",
      "---  ------       --------------  ----- \n",
      " 0   cod_cliente  17145 non-null  int64 \n",
      " 1   cod_loc      17145 non-null  int64 \n",
      " 2   cod_agente   17145 non-null  object\n",
      " 3   atencion     17145 non-null  object\n",
      " 4   socios       17145 non-null  bool  \n",
      "dtypes: bool(1), int64(2), object(2)\n",
      "memory usage: 552.6+ KB\n",
      "<class 'pandas.core.frame.DataFrame'>\n",
      "RangeIndex: 263974 entries, 0 to 263973\n",
      "Data columns (total 5 columns):\n",
      " #   Column       Non-Null Count   Dtype \n",
      "---  ------       --------------   ----- \n",
      " 0   cod_cliente  263974 non-null  object\n",
      " 1   latitud      263974 non-null  object\n",
      " 2   longitud     263974 non-null  object\n",
      " 3   cod_agente   263974 non-null  object\n",
      " 4   cod_ecom     263974 non-null  object\n",
      "dtypes: object(5)\n",
      "memory usage: 10.1+ MB\n",
      "<class 'pandas.core.frame.DataFrame'>\n",
      "RangeIndex: 17145 entries, 0 to 17144\n",
      "Data columns (total 5 columns):\n",
      " #   Column       Non-Null Count  Dtype \n",
      "---  ------       --------------  ----- \n",
      " 0   cod_cliente  17145 non-null  object\n",
      " 1   cod_loc      17145 non-null  int64 \n",
      " 2   cod_agente   17145 non-null  object\n",
      " 3   atencion     17145 non-null  object\n",
      " 4   socios       17145 non-null  bool  \n",
      "dtypes: bool(1), int64(1), object(3)\n",
      "memory usage: 552.6+ KB\n",
      "<class 'pandas.core.frame.DataFrame'>\n",
      "RangeIndex: 263974 entries, 0 to 263973\n",
      "Data columns (total 5 columns):\n",
      " #   Column       Non-Null Count   Dtype \n",
      "---  ------       --------------   ----- \n",
      " 0   cod_cliente  263974 non-null  object\n",
      " 1   latitud      263974 non-null  object\n",
      " 2   longitud     263974 non-null  object\n",
      " 3   cod_agente   263974 non-null  object\n",
      " 4   cod_ecom     263974 non-null  object\n",
      "dtypes: object(5)\n",
      "memory usage: 10.1+ MB\n"
     ]
    },
    {
     "ename": "TypeError",
     "evalue": "'filter' object is not subscriptable",
     "output_type": "error",
     "traceback": [
      "\u001b[1;31m---------------------------------------------------------------------------\u001b[0m",
      "\u001b[1;31mTypeError\u001b[0m                                 Traceback (most recent call last)",
      "\u001b[1;32mc:\\Work\\Nutresa\\ClusteringKg\\src\\main.ipynb Cell 9'\u001b[0m in \u001b[0;36m<cell line: 2>\u001b[1;34m()\u001b[0m\n\u001b[0;32m      <a href='vscode-notebook-cell:/c%3A/Work/Nutresa/ClusteringKg/src/main.ipynb#ch0000008?line=0'>1</a>\u001b[0m final_base \u001b[39m=\u001b[39m Cluster()\n\u001b[1;32m----> <a href='vscode-notebook-cell:/c%3A/Work/Nutresa/ClusteringKg/src/main.ipynb#ch0000008?line=1'>2</a>\u001b[0m \u001b[39mawait\u001b[39;00m final_base\u001b[39m.\u001b[39mmerge_all(bases, config[\u001b[39m\"\u001b[39m\u001b[39morder_base\u001b[39m\u001b[39m\"\u001b[39m])\n",
      "File \u001b[1;32mc:\\Work\\Nutresa\\ClusteringKg\\src\\cluster\\cluster.py:237\u001b[0m, in \u001b[0;36mmerge_all\u001b[1;34m(self, bases, order)\u001b[0m\n\u001b[0;32m    <a href='file:///c%3A/Work/Nutresa/ClusteringKg/src/cluster/cluster.py?line=235'>236</a>\u001b[0m \u001b[39masync\u001b[39;00m \u001b[39mdef\u001b[39;00m \u001b[39mmerge_all\u001b[39m(\u001b[39mself\u001b[39m, bases: \u001b[39m'\u001b[39m\u001b[39mdict[str, dto.DataFrameOptimized]\u001b[39m\u001b[39m'\u001b[39m, order: \u001b[39m'\u001b[39m\u001b[39mlist[str]\u001b[39m\u001b[39m'\u001b[39m):\n\u001b[1;32m--> <a href='file:///c%3A/Work/Nutresa/ClusteringKg/src/cluster/cluster.py?line=236'>237</a>\u001b[0m     pair_bases \u001b[39m=\u001b[39m []\n\u001b[0;32m    <a href='file:///c%3A/Work/Nutresa/ClusteringKg/src/cluster/cluster.py?line=237'>238</a>\u001b[0m     \u001b[39mfor\u001b[39;00m key \u001b[39min\u001b[39;00m order:\n\u001b[0;32m    <a href='file:///c%3A/Work/Nutresa/ClusteringKg/src/cluster/cluster.py?line=238'>239</a>\u001b[0m         \u001b[39mif\u001b[39;00m \u001b[39m\"\u001b[39m\u001b[39msocios\u001b[39m\u001b[39m\"\u001b[39m \u001b[39min\u001b[39;00m key\u001b[39m.\u001b[39mlower():\n",
      "File \u001b[1;32mc:\\Work\\Nutresa\\ClusteringKg\\src\\cluster\\cluster.py:70\u001b[0m, in \u001b[0;36mCluster.process_base_coords\u001b[1;34m(self, base_coords)\u001b[0m\n\u001b[0;32m     <a href='file:///c%3A/Work/Nutresa/ClusteringKg/src/cluster/cluster.py?line=65'>66</a>\u001b[0m \u001b[39m#delete \"cod_ecom\" column\u001b[39;00m\n\u001b[0;32m     <a href='file:///c%3A/Work/Nutresa/ClusteringKg/src/cluster/cluster.py?line=66'>67</a>\u001b[0m coords_indirecta\u001b[39m.\u001b[39mdrop(columns_coords[\u001b[39m4\u001b[39m], axis \u001b[39m=\u001b[39m \u001b[39m1\u001b[39m, inplace \u001b[39m=\u001b[39m \u001b[39mTrue\u001b[39;00m) \n\u001b[0;32m     <a href='file:///c%3A/Work/Nutresa/ClusteringKg/src/cluster/cluster.py?line=68'>69</a>\u001b[0m coords_directa \u001b[39m=\u001b[39m table_general\u001b[39m.\u001b[39mmerge(\n\u001b[1;32m---> <a href='file:///c%3A/Work/Nutresa/ClusteringKg/src/cluster/cluster.py?line=69'>70</a>\u001b[0m     right\u001b[39m=\u001b[39mtable_coords[[columns_coords[\u001b[39m0\u001b[39m], \u001b[39m*\u001b[39mcolumns_coords[\u001b[39m1\u001b[39m:\u001b[39m3\u001b[39m]]], \u001b[39m#cod_cliente, ...coords\u001b[39;00m\n\u001b[0;32m     <a href='file:///c%3A/Work/Nutresa/ClusteringKg/src/cluster/cluster.py?line=70'>71</a>\u001b[0m     right_on\u001b[39m=\u001b[39mcolumns_coords[\u001b[39m0\u001b[39m], \u001b[39m#cod_cliente\u001b[39;00m\n\u001b[0;32m     <a href='file:///c%3A/Work/Nutresa/ClusteringKg/src/cluster/cluster.py?line=71'>72</a>\u001b[0m     left_on\u001b[39m=\u001b[39m columns_general[\u001b[39m0\u001b[39m], \u001b[39m#cod_cliente\u001b[39;00m\n\u001b[0;32m     <a href='file:///c%3A/Work/Nutresa/ClusteringKg/src/cluster/cluster.py?line=72'>73</a>\u001b[0m     how\u001b[39m=\u001b[39m\u001b[39m\"\u001b[39m\u001b[39mleft\u001b[39m\u001b[39m\"\u001b[39m\n\u001b[0;32m     <a href='file:///c%3A/Work/Nutresa/ClusteringKg/src/cluster/cluster.py?line=73'>74</a>\u001b[0m )\n\u001b[0;32m     <a href='file:///c%3A/Work/Nutresa/ClusteringKg/src/cluster/cluster.py?line=75'>76</a>\u001b[0m \u001b[39mself\u001b[39m\u001b[39m.\u001b[39mtable \u001b[39m=\u001b[39m \u001b[39mself\u001b[39m\u001b[39m.\u001b[39mcombine_columns(\n\u001b[0;32m     <a href='file:///c%3A/Work/Nutresa/ClusteringKg/src/cluster/cluster.py?line=76'>77</a>\u001b[0m     data\u001b[39m=\u001b[39m(coords_directa, coords_indirecta), \n\u001b[0;32m     <a href='file:///c%3A/Work/Nutresa/ClusteringKg/src/cluster/cluster.py?line=77'>78</a>\u001b[0m     suffixes\u001b[39m=\u001b[39m(\u001b[39m\"\u001b[39m\u001b[39m_x\u001b[39m\u001b[39m\"\u001b[39m, \u001b[39m\"\u001b[39m\u001b[39m_y\u001b[39m\u001b[39m\"\u001b[39m),\n\u001b[0;32m     <a href='file:///c%3A/Work/Nutresa/ClusteringKg/src/cluster/cluster.py?line=78'>79</a>\u001b[0m     on\u001b[39m=\u001b[39mcolumns_general,\n\u001b[0;32m     <a href='file:///c%3A/Work/Nutresa/ClusteringKg/src/cluster/cluster.py?line=79'>80</a>\u001b[0m     how\u001b[39m=\u001b[39m\u001b[39m\"\u001b[39m\u001b[39mleft\u001b[39m\u001b[39m\"\u001b[39m)\n",
      "File \u001b[1;32mc:\\Work\\Nutresa\\ClusteringKg\\src\\dataframes\\dataframe_optimized.py:463\u001b[0m, in \u001b[0;36mDataFrameOptimized.combine_columns\u001b[1;34m(data, suffixes, on, left_on, right_on, how, **kargs)\u001b[0m\n\u001b[0;32m    <a href='file:///c%3A/Work/Nutresa/ClusteringKg/src/dataframes/dataframe_optimized.py?line=449'>450</a>\u001b[0m _temp_table \u001b[39m=\u001b[39m data[\u001b[39m0\u001b[39m]\u001b[39m.\u001b[39mmerge(\n\u001b[0;32m    <a href='file:///c%3A/Work/Nutresa/ClusteringKg/src/dataframes/dataframe_optimized.py?line=450'>451</a>\u001b[0m         right\u001b[39m=\u001b[39mdata[\u001b[39m1\u001b[39m],\n\u001b[0;32m    <a href='file:///c%3A/Work/Nutresa/ClusteringKg/src/dataframes/dataframe_optimized.py?line=451'>452</a>\u001b[0m         on\u001b[39m=\u001b[39mon,\n\u001b[1;32m   (...)\u001b[0m\n\u001b[0;32m    <a href='file:///c%3A/Work/Nutresa/ClusteringKg/src/dataframes/dataframe_optimized.py?line=457'>458</a>\u001b[0m         \u001b[39m*\u001b[39m\u001b[39m*\u001b[39mkargs\n\u001b[0;32m    <a href='file:///c%3A/Work/Nutresa/ClusteringKg/src/dataframes/dataframe_optimized.py?line=458'>459</a>\u001b[0m     )\n\u001b[0;32m    <a href='file:///c%3A/Work/Nutresa/ClusteringKg/src/dataframes/dataframe_optimized.py?line=460'>461</a>\u001b[0m columns_with_suffixes \u001b[39m=\u001b[39m \u001b[39mfilter\u001b[39m(\u001b[39mlambda\u001b[39;00m column: reduce(\u001b[39mlambda\u001b[39;00m a,b: (a \u001b[39min\u001b[39;00m column) \u001b[39m|\u001b[39m (b \u001b[39min\u001b[39;00m column), suffixes), _temp_table\u001b[39m.\u001b[39mcolumns\u001b[39m.\u001b[39mtolist())\n\u001b[1;32m--> <a href='file:///c%3A/Work/Nutresa/ClusteringKg/src/dataframes/dataframe_optimized.py?line=462'>463</a>\u001b[0m \u001b[39mfor\u001b[39;00m idx, left_column \u001b[39min\u001b[39;00m \u001b[39menumerate\u001b[39m(columns_with_suffixes[::\u001b[39m2\u001b[39;49m]):\n\u001b[0;32m    <a href='file:///c%3A/Work/Nutresa/ClusteringKg/src/dataframes/dataframe_optimized.py?line=463'>464</a>\u001b[0m     right_column \u001b[39m=\u001b[39m columns_with_suffixes[idx\u001b[39m+\u001b[39m\u001b[39m1\u001b[39m]\n\u001b[0;32m    <a href='file:///c%3A/Work/Nutresa/ClusteringKg/src/dataframes/dataframe_optimized.py?line=464'>465</a>\u001b[0m     mask \u001b[39m=\u001b[39m pd\u001b[39m.\u001b[39misna(left_column)\n",
      "\u001b[1;31mTypeError\u001b[0m: 'filter' object is not subscriptable"
     ]
    }
   ],
   "source": [
    "final_base = Cluster()\n",
    "await final_base.merge_all(bases, config[\"order_base\"])"
   ]
  }
 ],
 "metadata": {
  "interpreter": {
   "hash": "2f9411b5dc834ba136f323b80556c98fffceea74ee4cc78a826ac63306838f1b"
  },
  "kernelspec": {
   "display_name": "Python 3.9.8 ('ClusteringKg-7VG3ZJPS')",
   "language": "python",
   "name": "python3"
  },
  "language_info": {
   "codemirror_mode": {
    "name": "ipython",
    "version": 3
   },
   "file_extension": ".py",
   "mimetype": "text/x-python",
   "name": "python",
   "nbconvert_exporter": "python",
   "pygments_lexer": "ipython3",
   "version": "3.9.8"
  },
  "orig_nbformat": 4
 },
 "nbformat": 4,
 "nbformat_minor": 2
}
